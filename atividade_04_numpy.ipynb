{
  "nbformat": 4,
  "nbformat_minor": 0,
  "metadata": {
    "colab": {
      "provenance": [],
      "mount_file_id": "1eFnvzqfI-4cd80pKimivHrQQmZvX02BJ",
      "authorship_tag": "ABX9TyPUtbENKkisPzFGWG8SOkev",
      "include_colab_link": true
    },
    "kernelspec": {
      "name": "python3",
      "display_name": "Python 3"
    },
    "language_info": {
      "name": "python"
    }
  },
  "cells": [
    {
      "cell_type": "markdown",
      "metadata": {
        "id": "view-in-github",
        "colab_type": "text"
      },
      "source": [
        "<a href=\"https://colab.research.google.com/github/BrendaJesusOliveira/EstruturaDeDados/blob/main/atividade_04_numpy.ipynb\" target=\"_parent\"><img src=\"https://colab.research.google.com/assets/colab-badge.svg\" alt=\"Open In Colab\"/></a>"
      ]
    },
    {
      "cell_type": "markdown",
      "source": [
        "# Atividade 04 - NumPy e acesso à dados"
      ],
      "metadata": {
        "id": "pb60ksgbRcl7"
      }
    },
    {
      "cell_type": "markdown",
      "source": [
        "O dataset tratado nesta atividade é o \"Censo da População em Situação de Rua\" do ano de 2021.\n",
        "\n",
        "A análise estatística é sobre o perfil etário da população de rua.\n",
        "\n",
        "Link da base de dados: http://dados.prefeitura.sp.gov.br/dataset/censo-poprua"
      ],
      "metadata": {
        "id": "3GBXlv5lRaoj"
      }
    },
    {
      "cell_type": "code",
      "execution_count": null,
      "metadata": {
        "colab": {
          "base_uri": "https://localhost:8080/"
        },
        "id": "AjevbKJvRUcp",
        "outputId": "d627d3d0-8ee1-4d18-9cdb-aea4b8b61e7a"
      },
      "outputs": [
        {
          "output_type": "stream",
          "name": "stdout",
          "text": [
            "\n",
            "-- Análise Estatística da Idade de Pessoas em Situação de Rua (2021) --\n",
            "\n",
            "Média de idade: 41.91725168712351\n",
            "Mediana: 41.0\n",
            "Desvio padrão: 14.098750127027655\n",
            "Menor idade: 0\n",
            "Maior idade: 94\n"
          ]
        }
      ],
      "source": [
        "import numpy as np\n",
        "\n",
        "dados = np.genfromtxt(\"/content/drive/MyDrive/censo2021\", delimiter=\",\", dtype=None, encoding=\"utf-8\", invalid_raise=False)\n",
        "\n",
        "# selecionando a coluna das idades\n",
        "idades_str = dados[:, 2]\n",
        "\n",
        "# removendo valores invalidos\n",
        "idades_filtradas = np.char.strip(idades_str)\n",
        "\n",
        "# convertendo os valores das idades\n",
        "idades = np.array([int(i) for i in idades_filtradas if i.isdigit()])\n",
        "\n",
        "print('\\n-- Análise Estatística da Idade de Pessoas em Situação de Rua (2021) --\\n')\n",
        "\n",
        "media = np.mean(idades)\n",
        "print(f'Média de idade: {media}')\n",
        "\n",
        "mediana = np.median(idades)\n",
        "print(f'Mediana: {mediana}')\n",
        "\n",
        "desvio_padrao = np.std(idades)\n",
        "print(f'Desvio padrão: {desvio_padrao}')\n",
        "\n",
        "minimo = np.min(idades)\n",
        "maximo = np.max(idades)\n",
        "print(f'Menor idade: {minimo}')\n",
        "print(f'Maior idade: {maximo}')\n"
      ]
    }
  ]
}